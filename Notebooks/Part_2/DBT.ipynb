{
  "nbformat": 4,
  "nbformat_minor": 0,
  "metadata": {
    "colab": {
      "provenance": []
    },
    "kernelspec": {
      "name": "python3",
      "display_name": "Python 3"
    },
    "language_info": {
      "name": "python"
    }
  },
  "cells": [
    {
      "cell_type": "code",
      "execution_count": null,
      "metadata": {
        "id": "m0heASlQCAoY"
      },
      "outputs": [],
      "source": [
        "# Staging Metadata Query - stg_metadata.sql\n",
        "\n",
        "SELECT\n",
        "\n",
        "    TOPIC as Topic,\n",
        "    ARRAY_AGG(DISTINCT LEVEL) as Levels,\n",
        "    ARRAY_AGG(DISTINCT YEAR) as Years,\n",
        "    COUNT(*) AS number_of_articles\n",
        "\n",
        "from {{ source('cfa', 'CFA_PROD') }}\n",
        "\n",
        "GROUP BY TOPIC"
      ]
    },
    {
      "cell_type": "code",
      "source": [
        "# Staging Summary Query - stg_summary.sql\n",
        "\n",
        "SELECT\n",
        "       TOPIC,\n",
        "       MIN(LENGTH(summary)) AS min_Summary_Length,\n",
        "       MAX(LENGTH(summary)) AS max_Summary_Length\n",
        "from {{ source('cfa', 'CFA_PROD') }}\n",
        "GROUP BY TOPIC\n"
      ],
      "metadata": {
        "id": "_xH40y5fE3I9"
      },
      "execution_count": null,
      "outputs": []
    },
    {
      "cell_type": "code",
      "source": [
        "# Staging Learning Outcomes Query - stg_learning.sql\n",
        "\n",
        "SELECT\n",
        "       TOPIC,\n",
        "       MIN(LENGTH(Learning_Outcomes)) AS min_Learning_Outcome,\n",
        "       MAX(LENGTH(Learning_Outcomes)) AS max_Learning_Outcome\n",
        "from {{ source('cfa', 'CFA_PROD') }}\n",
        "GROUP BY TOPIC\n"
      ],
      "metadata": {
        "id": "9G8yC9W2FAGT"
      },
      "execution_count": null,
      "outputs": []
    },
    {
      "cell_type": "code",
      "source": [
        "# Base Model Query - cfa_test.sql\n",
        "\n",
        "WITH metadata AS (\n",
        "    SELECT * FROM {{ ref('stg_metadata') }}\n",
        "),\n",
        "summary AS (\n",
        "    SELECT * FROM {{ ref('stg_summary') }}\n",
        "),\n",
        "learning AS (\n",
        "    SELECT * FROM {{ ref('stg_learning') }}\n",
        ")\n",
        "\n",
        "SELECT\n",
        "    m.Topic,\n",
        "    m.Levels,\n",
        "    m.Years,\n",
        "    m.number_of_articles,\n",
        "    s.min_Summary_Length,\n",
        "    s.max_Summary_Length,\n",
        "    l.min_Learning_Outcome,\n",
        "    l.max_Learning_Outcome\n",
        "FROM metadata m\n",
        "JOIN summary s ON m.Topic = s.TOPIC\n",
        "JOIN learning l ON m.Topic = l.TOPIC"
      ],
      "metadata": {
        "id": "UqogGXLKFLPJ"
      },
      "execution_count": null,
      "outputs": []
    },
    {
      "cell_type": "code",
      "source": [
        "#Source YAML file for linkage between models - source.yml\n",
        "\n",
        "version: 2\n",
        "\n",
        "sources:\n",
        "    - name: cfa\n",
        "      description: This is a replica of the Postgres database used by our app\n",
        "      database: CFA_DATA\n",
        "      schema: Public\n",
        "      tables:\n",
        "          - name: CFA_PROD\n",
        "\n"
      ],
      "metadata": {
        "id": "H0akc043FVdB"
      },
      "execution_count": null,
      "outputs": []
    },
    {
      "cell_type": "code",
      "source": [
        "#Test File for the DBT models - schema_test.yml\n",
        "\n",
        "version: 2\n",
        "\n",
        "models:\n",
        "  - name: cfa_test\n",
        "    description: \"The table being considered.\"\n",
        "\n",
        "    columns:\n",
        "      - name: TOPIC\n",
        "        description: \"The primary subject of the CFA articles.\"\n",
        "        tests:\n",
        "          - unique\n",
        "          - not_null\n",
        "\n",
        "      - name: NUMBER_OF_ARTICLES\n",
        "        description: \"The count of articles associated with each topic.\"\n",
        "        tests:\n",
        "          - not_null\n",
        "\n",
        "      - name: YEARS\n",
        "        description: \"An array of years indicating when articles on a topic were published.\"\n",
        "        tests:\n",
        "          - not_null\n",
        "\n",
        "      - name: MIN_SUMMARY_LENGTH\n",
        "        description: \"The minimum length of article summaries for a given topic.\"\n",
        "        tests:\n",
        "          - not_null\n",
        "\n",
        "      - name: LEVELS\n",
        "        description: \"An array of CFA levels that the articles pertain to.\"\n",
        "        tests:\n",
        "          - not_null"
      ],
      "metadata": {
        "id": "2u3u9pPnFdYi"
      },
      "execution_count": null,
      "outputs": []
    },
    {
      "cell_type": "code",
      "source": [
        "# Default YAML file - dbt_project.yml\n",
        "\n",
        "\n",
        "# Name your project! Project names should contain only lowercase characters\n",
        "# and underscores. A good package name should reflect your organization's\n",
        "# name or the intended use of these models\n",
        "name: 'cfa'\n",
        "version: '1.0.0'\n",
        "config-version: 2\n",
        "\n",
        "# This setting configures which \"profile\" dbt uses for this project.\n",
        "profile: 'default'\n",
        "\n",
        "# These configurations specify where dbt should look for different types of files.\n",
        "# The `model-paths` config, for example, states that models in this project can be\n",
        "# found in the \"models/\" directory. You probably won't need to change these!\n",
        "model-paths: [\"models\"]\n",
        "analysis-paths: [\"analyses\"]\n",
        "test-paths: [\"tests\"]\n",
        "seed-paths: [\"seeds\"]\n",
        "macro-paths: [\"macros\"]\n",
        "snapshot-paths: [\"snapshots\"]\n",
        "\n",
        "target-path: \"target\"  # directory which will store compiled SQL files\n",
        "clean-targets:         # directories to be removed by `dbt clean`\n",
        "  - \"target\"\n",
        "  - \"dbt_packages\"\n",
        "\n",
        "\n",
        "# Configuring models\n",
        "# Full documentation: https://docs.getdbt.com/docs/configuring-models\n",
        "\n",
        "# In dbt, the default materialization for a model is a view. This means, when you run\n",
        "# dbt run or dbt build, all of your models will be built as a view in your data platform.\n",
        "# The configuration below will override this setting for models in the example folder to\n",
        "# instead be materialized as tables. Any models you add to the root of the models folder will\n",
        "# continue to be built as views. These settings can be overridden in the individual model files\n",
        "# using the `{{ config(...) }}` macro.\n",
        "\n",
        "models:\n",
        "  cfa:\n",
        "    +materialized: table\n"
      ],
      "metadata": {
        "id": "Zq9RiaaUFyMk"
      },
      "execution_count": null,
      "outputs": []
    }
  ]
}